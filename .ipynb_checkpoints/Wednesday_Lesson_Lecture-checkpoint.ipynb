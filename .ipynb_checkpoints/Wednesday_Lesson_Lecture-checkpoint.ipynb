{
 "cells": [
  {
   "cell_type": "markdown",
   "metadata": {},
   "source": [
    "# Algorithms, Binary Search & Linked Lists"
   ]
  },
  {
   "cell_type": "markdown",
   "metadata": {},
   "source": [
    "## Tasks Today:\n",
    "\n",
    "1) <b>Regular Expressions - <i>Covered Thursday</i></b> <br>\n",
    "2) <b>In-Place Algorithms</b> <br>\n",
    " &nbsp;&nbsp;&nbsp;&nbsp; a) Syntax <br>\n",
    " &nbsp;&nbsp;&nbsp;&nbsp; a) Out of Place Algorithm <br>\n",
    " &nbsp;&nbsp;&nbsp;&nbsp; b) In-Class Exercise #1 <br>\n",
    "3) <b>Two Pointers</b> <br>\n",
    "4) <b>Linked Lists</b> <br>\n",
    "5) <b>Merge Sort</b> <br>\n",
    " &nbsp;&nbsp;&nbsp;&nbsp; a) Video on Algorithms <br>\n",
    " &nbsp;&nbsp;&nbsp;&nbsp; b) How it Works <br>\n",
    "6) <b>Exercises</b> <br>\n",
    " &nbsp;&nbsp;&nbsp;&nbsp; a) Exercise #1 - Write Insertion Sort <br>\n",
    " &nbsp;&nbsp;&nbsp;&nbsp; b) Exercise #2 - Reverse a List in Place Using an In-Place Algorithm <br>\n",
    " &nbsp;&nbsp;&nbsp;&nbsp; c) Exercise #3 - Find Distinct Words <br>"
   ]
  },
  {
   "cell_type": "markdown",
   "metadata": {},
   "source": [
    "## In-Place Algorithms"
   ]
  },
  {
   "cell_type": "markdown",
   "metadata": {},
   "source": [
    "#### Syntax"
   ]
  },
  {
   "cell_type": "code",
   "execution_count": 1,
   "metadata": {},
   "outputs": [
    {
     "name": "stdout",
     "output_type": "stream",
     "text": [
      "[20, 4, 10]\n",
      "[10, 4, 20]\n"
     ]
    }
   ],
   "source": [
    "# var[i], var[i + 1] = var[i + 1], var[i]\n",
    "# sometimes called a swap\n",
    "\n",
    "def swap(alist,x,y,z):\n",
    "    alist[x],alist[y],alist[z] = alist[z],alist[y],alist[x]\n",
    "    return alist\n",
    "\n",
    "my_list = [20,4,10]\n",
    "print(my_list)\n",
    "\n",
    "swap(my_list,0,1,2)\n",
    "\n",
    "print(my_list)"
   ]
  },
  {
   "cell_type": "markdown",
   "metadata": {},
   "source": [
    "#### Out of Place Algorithm"
   ]
  },
  {
   "cell_type": "code",
   "execution_count": 2,
   "metadata": {},
   "outputs": [
    {
     "data": {
      "text/plain": [
       "[20, 4, 10]"
      ]
     },
     "execution_count": 2,
     "metadata": {},
     "output_type": "execute_result"
    }
   ],
   "source": [
    "# not swapping, but rather reversing completely\n",
    "my_list[::-1]\n"
   ]
  },
  {
   "cell_type": "markdown",
   "metadata": {},
   "source": [
    "#### In-Class Exercise #1 <br>\n",
    "<p>Write a function that takes in four arguments (list, index1, index2, index3), and swaps those three positions in the list passed in.</p>"
   ]
  },
  {
   "cell_type": "code",
   "execution_count": 4,
   "metadata": {},
   "outputs": [
    {
     "data": {
      "text/plain": [
       "[10, 4, 8, 3, 4, 2, 6]"
      ]
     },
     "execution_count": 4,
     "metadata": {},
     "output_type": "execute_result"
    }
   ],
   "source": [
    "l_1 = [10, 4, 3, 8, 4, 2, 6]\n",
    "\n",
    "def swap(a_list,a,b,c):\n",
    "    a_list[a],a_list[b],a_list[c] = a_list[c],a_list[b],a_list[a]\n",
    "    return a_list\n",
    "\n",
    "swap(l_1,3,1,2)\n"
   ]
  },
  {
   "cell_type": "markdown",
   "metadata": {},
   "source": [
    "## Two Pointers"
   ]
  },
  {
   "cell_type": "markdown",
   "metadata": {},
   "source": [
    "#### Syntax"
   ]
  },
  {
   "cell_type": "code",
   "execution_count": 5,
   "metadata": {},
   "outputs": [
    {
     "name": "stdout",
     "output_type": "stream",
     "text": [
      "[10, 4, 8, 3, 4, 2, 6]\n"
     ]
    },
    {
     "data": {
      "text/plain": [
       "[6, 4, 8, 3, 4, 2, 10]"
      ]
     },
     "execution_count": 5,
     "metadata": {},
     "output_type": "execute_result"
    }
   ],
   "source": [
    "# alist[left], alist[right] = alist[right], alist[left]\n",
    "# use two pointers to swap, uses while loop\n",
    "\n",
    "def twoPointers(alist):\n",
    "    left = 0\n",
    "    right = len(alist) - 1\n",
    "    while left <= right:\n",
    "        alist[left], alist[right] = alist[right],alist[left]\n",
    "        left += 1\n",
    "        right -= 1\n",
    "        return alist\n",
    "    \n",
    "print(l_1)\n",
    "twoPointers(l_1)\n"
   ]
  },
  {
   "cell_type": "markdown",
   "metadata": {},
   "source": [
    "# Linked List (Data Structure)\n",
    "\n",
    "A linked list is created by using the node class. We create a Node object and create another class to use this node object. We pass the appropriate values thorugh the node object to point the to the next data elements.\n",
    "\n",
    "There are some advantages and disadvantages with this data structure. **Advantages** Linked Lists can save memory because they can be flexibile with memory management which saves memory. **Disadvantages** Finding or adding to the list requires traversing the entire list."
   ]
  },
  {
   "cell_type": "code",
   "execution_count": 11,
   "metadata": {},
   "outputs": [
    {
     "name": "stdout",
     "output_type": "stream",
     "text": [
      "Mon\n",
      "Tues\n",
      "wed\n",
      "Thurs\n",
      "Fri\n"
     ]
    }
   ],
   "source": [
    "class LinkedListNode():\n",
    "    def __init__(self,value):\n",
    "        self.value = value\n",
    "        self.next = None         #this is the next point which is initially none\n",
    "    def traverseList(self):\n",
    "        node = self  #Start at the head node\n",
    "        while node != None:\n",
    "            print(node.value)  #access the node value\n",
    "            node = node.next   #Move to the next link in the list\n",
    "            \n",
    "            \n",
    "#Create Node fore list\n",
    "node1 = LinkedListNode(\"Mon\")\n",
    "node2 = LinkedListNode(\"Tues\")\n",
    "node3 = LinkedListNode(\"wed\")\n",
    "node4 = LinkedListNode(\"Thurs\")\n",
    "node5 = LinkedListNode(\"Fri\")\n",
    "\n",
    "node1.next = node2 # mon > tues\n",
    "node2.next = node3 #Tues > wed\n",
    "node3.next = node4 #Wed > thurs\n",
    "node4.next = node5 #thurs > Fri\n",
    "\n",
    "node1.traverseList()"
   ]
  },
  {
   "cell_type": "markdown",
   "metadata": {},
   "source": [
    "## Stacks and Queues\n",
    "\n",
    "** Stacks ** as the name suggests is a data structure that allows for data to follow the Last In First Out priciple(LIFO). Think of a stack of pancakes for example. To get the first pancake you would  start with the top and go down.\n",
    "\n",
    "** Queues ** are similar but in this case follow the First In First Out principle(FIFO). Think of this as a line in a black friday sale. The first person camped out for the big screen tv is the first to get it."
   ]
  },
  {
   "cell_type": "code",
   "execution_count": 13,
   "metadata": {},
   "outputs": [
    {
     "name": "stdout",
     "output_type": "stream",
     "text": [
      "U\n",
      "10\n"
     ]
    }
   ],
   "source": [
    "# Stacks and Queues can be created using python lists\n",
    "\n",
    "# Append() and pop() = stack\n",
    "stack = []\n",
    "stack.append(\"A\")\n",
    "stack.append(\"E\")\n",
    "stack.append(\"I\")\n",
    "stack.append(\"O\")\n",
    "stack.append(\"U\")\n",
    "last_item_of_stack = stack.pop()\n",
    "print(last_item_of_stack)\n",
    "\n",
    "#Append() and pop(0) = queue\n",
    "queue = []\n",
    "queue.append(10)\n",
    "queue.append(20)\n",
    "queue.append(30)\n",
    "\n",
    "first_item_of_queue = queue.pop(0)\n",
    "print(first_item_of_queue)\n",
    "f"
   ]
  },
  {
   "cell_type": "markdown",
   "metadata": {},
   "source": [
    "## Merge Sort"
   ]
  },
  {
   "cell_type": "markdown",
   "metadata": {},
   "source": [
    "#### Video of Algorithms <br>\n",
    "<p>Watch the video about algorithms.</p>\n",
    "\n",
    "https://www.youtube.com/watch?v=Q9HjeFD62Uk\n",
    "\n",
    "https://www.youtube.com/watch?v=kPRA0W1kECg\n",
    "\n",
    "https://www.youtube.com/watch?v=ZZuD6iUe3Pc"
   ]
  },
  {
   "cell_type": "markdown",
   "metadata": {},
   "source": [
    "#### How it Works"
   ]
  },
  {
   "cell_type": "code",
   "execution_count": 18,
   "metadata": {},
   "outputs": [
    {
     "name": "stdout",
     "output_type": "stream",
     "text": [
      "Splitting:  [18, 17, 10, 5, 1]\n",
      "Splitting:  [18, 17]\n",
      "Splitting:  [18]\n",
      "Merging:  [18]\n",
      "Splitting:  [17]\n",
      "Merging:  [17]\n",
      "Merging:  [17, 18]\n",
      "Splitting:  [10, 5, 1]\n",
      "Splitting:  [10]\n",
      "Merging:  [10]\n",
      "Splitting:  [5, 1]\n",
      "Splitting:  [5]\n",
      "Merging:  [5]\n",
      "Splitting:  [1]\n",
      "Merging:  [1]\n",
      "Merging:  [1, 5]\n",
      "Merging:  [1, 5, 10]\n",
      "Merging:  [1, 5, 10, 17, 18]\n"
     ]
    }
   ],
   "source": [
    "# Step 1: Split everything into it's own group\n",
    "# Step 2: From left to right merge two groups together\n",
    "# Step 3: While merging, place each item in the correct position within the merged group\n",
    "# Step 4: Continue steps 3-4 until one group is left\n",
    "\n",
    "from random import randint\n",
    "# used to generate a random list of 10 numbers from 0 to 100\n",
    "nums = [randint(0, 20) for i in range(5)]\n",
    "# write merge sort\n",
    "\n",
    "def mergeSort(alist):\n",
    "    print(\"Splitting: \", alist)\n",
    "    #step 1, divide and conquer - divide the list into equal halves\n",
    "    if len(alist) > 1:\n",
    "        mid = len(alist)//2\n",
    "        lefthalf = alist[:mid]\n",
    "        righthalf  = alist[mid:]\n",
    "        \n",
    "        mergeSort(lefthalf)\n",
    "        mergeSort(righthalf)\n",
    "        \n",
    "        #index ponters for our list\n",
    "        \n",
    "        i = 0\n",
    "        j = 0\n",
    "        k = 0\n",
    "        \n",
    "        #STEP 2, COMPARE the lefthalf and righthalf\n",
    "        while i < len(lefthalf) and j < len(righthalf):\n",
    "            if lefthalf[i] < righthalf[i]:\n",
    "                alist[k] = lefthalf[i]\n",
    "                i = i + 1\n",
    "            else:\n",
    "                alist[k] = righthalf[j]\n",
    "                j = j + 1\n",
    "            k = k + 1\n",
    "                # step 3 , check both halves and sort in a one -off situation\n",
    "        while i < len(lefthalf):\n",
    "            alist[k] = lefthalf[i]\n",
    "            i = i + 1\n",
    "            k = k + 1\n",
    "        while j < len(righthalf):\n",
    "            alist[k] = righthalf[j]\n",
    "            j = j + 1\n",
    "            k = k + 1\n",
    "            \n",
    "    print(\"Merging: \", alist) #step 4\n",
    "    \n",
    "mergeSort(nums)\n",
    "# Worst Time complexity: 0(nlog(n)) -- Linear Logorithmic Algorithmic\n",
    "# Space complexity : 0(1) - Constant speed"
   ]
  },
  {
   "cell_type": "markdown",
   "metadata": {},
   "source": [
    "# Binary Search\n",
    "\n",
    "The Binary Search algorithm works by finding the number in the middle of a given array and comparing it to the target. Given that the array is sorted\n",
    "\n",
    "* The worst case run time for this algorithm is `O(log(n))`"
   ]
  },
  {
   "cell_type": "code",
   "execution_count": 21,
   "metadata": {},
   "outputs": [
    {
     "data": {
      "text/plain": [
       "'The index is...2'"
      ]
     },
     "execution_count": 21,
     "metadata": {},
     "output_type": "execute_result"
    }
   ],
   "source": [
    "def binarySearch(array,target):\n",
    "    return binarySearchHelperFunc(array,target,0,len(array) - 1)\n",
    "\n",
    "def binarySearchHelperFunc(array, target, left, right):\n",
    "    while left <= right:\n",
    "        middle =(left + right) // 2\n",
    "        potentialMatch = array[middle]\n",
    "        if target == potentialMatch:\n",
    "            return \"The index is...{}\".format(middle)\n",
    "        elif target < potentialMatch:\n",
    "            right = middle - 1\n",
    "        else:\n",
    "            left = middle + 1\n",
    "    return -1\n",
    "binarySearch([1,5,23,111], 23)\n",
    "                                            "
   ]
  },
  {
   "cell_type": "markdown",
   "metadata": {},
   "source": [
    "# Exercises"
   ]
  },
  {
   "cell_type": "markdown",
   "metadata": {},
   "source": [
    "### Exercise #1 <br>\n",
    "<p>Reverse the list below in-place using an in-place algorithm.<br>For extra credit: Reverse the strings at the same time.</p>"
   ]
  },
  {
   "cell_type": "code",
   "execution_count": 30,
   "metadata": {},
   "outputs": [
    {
     "name": "stdout",
     "output_type": "stream",
     "text": [
      "['this', 'is', 'a', 'sentence', '.']\n",
      "['.', 'sentence', 'a', 'is', 'this']\n"
     ]
    }
   ],
   "source": [
    "words = ['this' , 'is', 'a', 'sentence', '.']\n",
    "\n",
    "# def reverse(aList):\n",
    "def swap(alist,x,y,z,w,b):\n",
    "    alist[x],alist[y],alist[z],alist[w],alist[b] = alist[b],alist[w],alist[z],alist[y],alist[x]\n",
    "    return alist\n",
    "\n",
    "\n",
    "print(words)\n",
    "\n",
    "swap(words,0,1,2,3,4)\n",
    "\n",
    "print(words)\n",
    "\n"
   ]
  },
  {
   "cell_type": "markdown",
   "metadata": {},
   "source": [
    "### Exercise #2 <br>\n",
    "<p>Create a function that counts how many distinct words are in the string below, then outputs a dictionary with the words as the key and the value as the amount of times that word appears in the string.<br>Should output:<br>{'a': 5,<br>\n",
    " 'abstract': 1,<br>\n",
    " 'an': 3,<br>\n",
    " 'array': 2, ... etc...</p>"
   ]
  },
  {
   "cell_type": "code",
   "execution_count": 69,
   "metadata": {},
   "outputs": [],
   "source": [
    "a_text = 'In computing, a hash table hash map is a data structure which implements an associative array abstract data type, a structure that can map keys to values. A hash table uses a hash function to compute an index into an array of buckets or slots from which the desired value can be found'\n",
    "\n"
   ]
  },
  {
   "cell_type": "markdown",
   "metadata": {},
   "source": [
    "### Exercise #3 : Larger Challenge - Insertion Sort <br>\n",
    "<p>Write a function that performs insertion sort on the list below.</p>\n",
    "\n",
    "<b> Insertion sort is based on the idea that one element from the input elements is consumed in each iteration to find its correct position i.e, the position to which it belongs in a sorted array.</b>\n",
    "\n",
    "Here's a quick example of how insertion sort works:\n",
    "\n",
    "<img src=\"https://he-s3.s3.amazonaws.com/media/uploads/46bfac9.png\">"
   ]
  },
  {
   "cell_type": "code",
   "execution_count": 36,
   "metadata": {},
   "outputs": [
    {
     "name": "stdout",
     "output_type": "stream",
     "text": [
      " 2\n",
      " 4\n",
      " 5\n",
      " 7\n"
     ]
    }
   ],
   "source": [
    "from random import randint\n",
    "# used to generate a random list of 10 numbers from 0 to 100\n",
    "nums = [randint(0, 100) for i in range(10)]\n",
    "# write insertion sort\n",
    "\n",
    "# step 1: loop forward to end\n",
    "# step 2: check current index is lower than previous\n",
    "# step3: if so, loop backwards\n",
    "# step4: check if current index is less than previous again\n",
    "# step 5: swap \n",
    "# step 6: if not, break\n",
    "\n",
    "\n",
    "def insertionSort(nums): \n",
    "    for i in range(1, len(nums)): \n",
    "  \n",
    "        key = nums[i] \n",
    "  \n",
    "        j = i-1\n",
    "        while j >= 0 and key < nums[j] : \n",
    "                nums[j + 1] = nums[j] \n",
    "                j -= 1\n",
    "        nums[j + 1] = key \n",
    "  \n",
    "  \n",
    "nums = [7, 4, 5, 2] \n",
    "insertionSort(nums) \n",
    "for i in range(len(nums)): \n",
    "    print (\"% d\" % nums[i])"
   ]
  }
 ],
 "metadata": {
  "kernelspec": {
   "display_name": "Python 3",
   "language": "python",
   "name": "python3"
  },
  "language_info": {
   "codemirror_mode": {
    "name": "ipython",
    "version": 3
   },
   "file_extension": ".py",
   "mimetype": "text/x-python",
   "name": "python",
   "nbconvert_exporter": "python",
   "pygments_lexer": "ipython3",
   "version": "3.7.4"
  }
 },
 "nbformat": 4,
 "nbformat_minor": 2
}
